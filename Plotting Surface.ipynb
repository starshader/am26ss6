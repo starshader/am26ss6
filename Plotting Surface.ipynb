{
 "cells": [
  {
   "cell_type": "code",
   "execution_count": null,
   "id": "7bdc37f4",
   "metadata": {},
   "outputs": [],
   "source": [
    "# Plotting the surface\n",
    "\n",
    "def plot_SVC_surface(model):\n",
    "    \n",
    "    # Identifying Axis\n",
    "\n",
    "    ax=plt.gca()\n",
    "\n",
    "    x_lim=ax.get_xlim() \n",
    "    y_lim=ax.get_ylim()\n",
    "\n",
    "   \n",
    "\n",
    "    # Creating a collection of x and y values wihtin this range\n",
    "\n",
    "    xx=np.linspace(x_lim[0],x_lim[1],50)\n",
    "    yy=np.linspace(y_lim[0],y_lim[1],50)\n",
    "    \n",
    "    # Creating a meshgrid using these xx and yy\n",
    "\n",
    "    XX,YY=np.meshgrid(xx,yy) \n",
    "\n",
    "    # Creatign a stack of these\n",
    "\n",
    "    xy=np.vstack([XX.ravel(),YY.ravel()]).T\n",
    "\n",
    "\n",
    "\n",
    "    # Creating decision boundary using these values\n",
    "\n",
    "    Z=model.decision_function(xy).reshape(XX.shape)\n",
    "    \n",
    "\n",
    "    ax.contour(XX, YY, Z,colors='k', levels=[-1, 0, 1], alpha=0.5,\n",
    "               linestyles=['--', '--'])\n",
    "\n",
    "    # plotting  support vectors obtained \n",
    "    ax.scatter(model.support_vectors_[:, 0], model.support_vectors_[:, 1], s=200,\n",
    "               linewidth=1, facecolors='none', edgecolors='none')\n",
    "    plt.show()"
   ]
  }
 ],
 "metadata": {
  "kernelspec": {
   "display_name": "Python 3 (ipykernel)",
   "language": "python",
   "name": "python3"
  },
  "language_info": {
   "codemirror_mode": {
    "name": "ipython",
    "version": 3
   },
   "file_extension": ".py",
   "mimetype": "text/x-python",
   "name": "python",
   "nbconvert_exporter": "python",
   "pygments_lexer": "ipython3",
   "version": "3.9.12"
  }
 },
 "nbformat": 4,
 "nbformat_minor": 5
}
