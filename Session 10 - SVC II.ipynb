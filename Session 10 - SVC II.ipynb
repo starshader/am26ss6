{
 "cells": [
  {
   "cell_type": "markdown",
   "id": "5e0d0054",
   "metadata": {},
   "source": [
    "# Implementation of SVC"
   ]
  },
  {
   "cell_type": "markdown",
   "id": "09aa279e",
   "metadata": {},
   "source": [
    "## Accessing the data"
   ]
  },
  {
   "cell_type": "code",
   "execution_count": 1,
   "id": "3d17fffa",
   "metadata": {},
   "outputs": [],
   "source": [
    "import numpy as np\n",
    "import pandas as pd\n",
    "import matplotlib.pyplot as plt\n",
    "import seaborn as sns"
   ]
  },
  {
   "cell_type": "code",
   "execution_count": 2,
   "id": "85003524",
   "metadata": {},
   "outputs": [],
   "source": [
    "db=pd.read_csv('diabetes.csv')"
   ]
  },
  {
   "cell_type": "code",
   "execution_count": 3,
   "id": "e5373edc",
   "metadata": {},
   "outputs": [
    {
     "data": {
      "text/html": [
       "<div>\n",
       "<style scoped>\n",
       "    .dataframe tbody tr th:only-of-type {\n",
       "        vertical-align: middle;\n",
       "    }\n",
       "\n",
       "    .dataframe tbody tr th {\n",
       "        vertical-align: top;\n",
       "    }\n",
       "\n",
       "    .dataframe thead th {\n",
       "        text-align: right;\n",
       "    }\n",
       "</style>\n",
       "<table border=\"1\" class=\"dataframe\">\n",
       "  <thead>\n",
       "    <tr style=\"text-align: right;\">\n",
       "      <th></th>\n",
       "      <th>Pregnancies</th>\n",
       "      <th>Glucose</th>\n",
       "      <th>BloodPressure</th>\n",
       "      <th>SkinThickness</th>\n",
       "      <th>Insulin</th>\n",
       "      <th>BMI</th>\n",
       "      <th>DiabetesPedigreeFunction</th>\n",
       "      <th>Age</th>\n",
       "      <th>Outcome</th>\n",
       "    </tr>\n",
       "  </thead>\n",
       "  <tbody>\n",
       "    <tr>\n",
       "      <th>0</th>\n",
       "      <td>6</td>\n",
       "      <td>148</td>\n",
       "      <td>72</td>\n",
       "      <td>35</td>\n",
       "      <td>0</td>\n",
       "      <td>33.6</td>\n",
       "      <td>0.627</td>\n",
       "      <td>50</td>\n",
       "      <td>1</td>\n",
       "    </tr>\n",
       "    <tr>\n",
       "      <th>1</th>\n",
       "      <td>1</td>\n",
       "      <td>85</td>\n",
       "      <td>66</td>\n",
       "      <td>29</td>\n",
       "      <td>0</td>\n",
       "      <td>26.6</td>\n",
       "      <td>0.351</td>\n",
       "      <td>31</td>\n",
       "      <td>0</td>\n",
       "    </tr>\n",
       "    <tr>\n",
       "      <th>2</th>\n",
       "      <td>8</td>\n",
       "      <td>183</td>\n",
       "      <td>64</td>\n",
       "      <td>0</td>\n",
       "      <td>0</td>\n",
       "      <td>23.3</td>\n",
       "      <td>0.672</td>\n",
       "      <td>32</td>\n",
       "      <td>1</td>\n",
       "    </tr>\n",
       "    <tr>\n",
       "      <th>3</th>\n",
       "      <td>1</td>\n",
       "      <td>89</td>\n",
       "      <td>66</td>\n",
       "      <td>23</td>\n",
       "      <td>94</td>\n",
       "      <td>28.1</td>\n",
       "      <td>0.167</td>\n",
       "      <td>21</td>\n",
       "      <td>0</td>\n",
       "    </tr>\n",
       "    <tr>\n",
       "      <th>4</th>\n",
       "      <td>0</td>\n",
       "      <td>137</td>\n",
       "      <td>40</td>\n",
       "      <td>35</td>\n",
       "      <td>168</td>\n",
       "      <td>43.1</td>\n",
       "      <td>2.288</td>\n",
       "      <td>33</td>\n",
       "      <td>1</td>\n",
       "    </tr>\n",
       "    <tr>\n",
       "      <th>...</th>\n",
       "      <td>...</td>\n",
       "      <td>...</td>\n",
       "      <td>...</td>\n",
       "      <td>...</td>\n",
       "      <td>...</td>\n",
       "      <td>...</td>\n",
       "      <td>...</td>\n",
       "      <td>...</td>\n",
       "      <td>...</td>\n",
       "    </tr>\n",
       "    <tr>\n",
       "      <th>763</th>\n",
       "      <td>10</td>\n",
       "      <td>101</td>\n",
       "      <td>76</td>\n",
       "      <td>48</td>\n",
       "      <td>180</td>\n",
       "      <td>32.9</td>\n",
       "      <td>0.171</td>\n",
       "      <td>63</td>\n",
       "      <td>0</td>\n",
       "    </tr>\n",
       "    <tr>\n",
       "      <th>764</th>\n",
       "      <td>2</td>\n",
       "      <td>122</td>\n",
       "      <td>70</td>\n",
       "      <td>27</td>\n",
       "      <td>0</td>\n",
       "      <td>36.8</td>\n",
       "      <td>0.340</td>\n",
       "      <td>27</td>\n",
       "      <td>0</td>\n",
       "    </tr>\n",
       "    <tr>\n",
       "      <th>765</th>\n",
       "      <td>5</td>\n",
       "      <td>121</td>\n",
       "      <td>72</td>\n",
       "      <td>23</td>\n",
       "      <td>112</td>\n",
       "      <td>26.2</td>\n",
       "      <td>0.245</td>\n",
       "      <td>30</td>\n",
       "      <td>0</td>\n",
       "    </tr>\n",
       "    <tr>\n",
       "      <th>766</th>\n",
       "      <td>1</td>\n",
       "      <td>126</td>\n",
       "      <td>60</td>\n",
       "      <td>0</td>\n",
       "      <td>0</td>\n",
       "      <td>30.1</td>\n",
       "      <td>0.349</td>\n",
       "      <td>47</td>\n",
       "      <td>1</td>\n",
       "    </tr>\n",
       "    <tr>\n",
       "      <th>767</th>\n",
       "      <td>1</td>\n",
       "      <td>93</td>\n",
       "      <td>70</td>\n",
       "      <td>31</td>\n",
       "      <td>0</td>\n",
       "      <td>30.4</td>\n",
       "      <td>0.315</td>\n",
       "      <td>23</td>\n",
       "      <td>0</td>\n",
       "    </tr>\n",
       "  </tbody>\n",
       "</table>\n",
       "<p>768 rows × 9 columns</p>\n",
       "</div>"
      ],
      "text/plain": [
       "     Pregnancies  Glucose  BloodPressure  SkinThickness  Insulin   BMI  \\\n",
       "0              6      148             72             35        0  33.6   \n",
       "1              1       85             66             29        0  26.6   \n",
       "2              8      183             64              0        0  23.3   \n",
       "3              1       89             66             23       94  28.1   \n",
       "4              0      137             40             35      168  43.1   \n",
       "..           ...      ...            ...            ...      ...   ...   \n",
       "763           10      101             76             48      180  32.9   \n",
       "764            2      122             70             27        0  36.8   \n",
       "765            5      121             72             23      112  26.2   \n",
       "766            1      126             60              0        0  30.1   \n",
       "767            1       93             70             31        0  30.4   \n",
       "\n",
       "     DiabetesPedigreeFunction  Age  Outcome  \n",
       "0                       0.627   50        1  \n",
       "1                       0.351   31        0  \n",
       "2                       0.672   32        1  \n",
       "3                       0.167   21        0  \n",
       "4                       2.288   33        1  \n",
       "..                        ...  ...      ...  \n",
       "763                     0.171   63        0  \n",
       "764                     0.340   27        0  \n",
       "765                     0.245   30        0  \n",
       "766                     0.349   47        1  \n",
       "767                     0.315   23        0  \n",
       "\n",
       "[768 rows x 9 columns]"
      ]
     },
     "execution_count": 3,
     "metadata": {},
     "output_type": "execute_result"
    }
   ],
   "source": [
    "db"
   ]
  },
  {
   "cell_type": "code",
   "execution_count": 4,
   "id": "7ce3d06f",
   "metadata": {},
   "outputs": [
    {
     "data": {
      "text/plain": [
       "(768, 9)"
      ]
     },
     "execution_count": 4,
     "metadata": {},
     "output_type": "execute_result"
    }
   ],
   "source": [
    "db.shape"
   ]
  },
  {
   "cell_type": "markdown",
   "id": "09291249",
   "metadata": {},
   "source": [
    "## Preprocessing the data"
   ]
  },
  {
   "cell_type": "code",
   "execution_count": 5,
   "id": "3873a1dc",
   "metadata": {},
   "outputs": [],
   "source": [
    "y=db['Outcome']"
   ]
  },
  {
   "cell_type": "code",
   "execution_count": 6,
   "id": "cbc2c991",
   "metadata": {},
   "outputs": [
    {
     "data": {
      "text/plain": [
       "0    1\n",
       "1    0\n",
       "2    1\n",
       "3    0\n",
       "4    1\n",
       "Name: Outcome, dtype: int64"
      ]
     },
     "execution_count": 6,
     "metadata": {},
     "output_type": "execute_result"
    }
   ],
   "source": [
    "y.head()"
   ]
  },
  {
   "cell_type": "code",
   "execution_count": 7,
   "id": "8235dbdf",
   "metadata": {},
   "outputs": [
    {
     "data": {
      "text/plain": [
       "0    500\n",
       "1    268\n",
       "Name: Outcome, dtype: int64"
      ]
     },
     "execution_count": 7,
     "metadata": {},
     "output_type": "execute_result"
    }
   ],
   "source": [
    "y.value_counts()"
   ]
  },
  {
   "cell_type": "code",
   "execution_count": 8,
   "id": "9703f9c9",
   "metadata": {},
   "outputs": [],
   "source": [
    "X=db.drop(['Outcome'],axis=1)"
   ]
  },
  {
   "cell_type": "code",
   "execution_count": 9,
   "id": "664c468d",
   "metadata": {},
   "outputs": [
    {
     "data": {
      "text/html": [
       "<div>\n",
       "<style scoped>\n",
       "    .dataframe tbody tr th:only-of-type {\n",
       "        vertical-align: middle;\n",
       "    }\n",
       "\n",
       "    .dataframe tbody tr th {\n",
       "        vertical-align: top;\n",
       "    }\n",
       "\n",
       "    .dataframe thead th {\n",
       "        text-align: right;\n",
       "    }\n",
       "</style>\n",
       "<table border=\"1\" class=\"dataframe\">\n",
       "  <thead>\n",
       "    <tr style=\"text-align: right;\">\n",
       "      <th></th>\n",
       "      <th>Pregnancies</th>\n",
       "      <th>Glucose</th>\n",
       "      <th>BloodPressure</th>\n",
       "      <th>SkinThickness</th>\n",
       "      <th>Insulin</th>\n",
       "      <th>BMI</th>\n",
       "      <th>DiabetesPedigreeFunction</th>\n",
       "      <th>Age</th>\n",
       "    </tr>\n",
       "  </thead>\n",
       "  <tbody>\n",
       "    <tr>\n",
       "      <th>0</th>\n",
       "      <td>6</td>\n",
       "      <td>148</td>\n",
       "      <td>72</td>\n",
       "      <td>35</td>\n",
       "      <td>0</td>\n",
       "      <td>33.6</td>\n",
       "      <td>0.627</td>\n",
       "      <td>50</td>\n",
       "    </tr>\n",
       "    <tr>\n",
       "      <th>1</th>\n",
       "      <td>1</td>\n",
       "      <td>85</td>\n",
       "      <td>66</td>\n",
       "      <td>29</td>\n",
       "      <td>0</td>\n",
       "      <td>26.6</td>\n",
       "      <td>0.351</td>\n",
       "      <td>31</td>\n",
       "    </tr>\n",
       "    <tr>\n",
       "      <th>2</th>\n",
       "      <td>8</td>\n",
       "      <td>183</td>\n",
       "      <td>64</td>\n",
       "      <td>0</td>\n",
       "      <td>0</td>\n",
       "      <td>23.3</td>\n",
       "      <td>0.672</td>\n",
       "      <td>32</td>\n",
       "    </tr>\n",
       "    <tr>\n",
       "      <th>3</th>\n",
       "      <td>1</td>\n",
       "      <td>89</td>\n",
       "      <td>66</td>\n",
       "      <td>23</td>\n",
       "      <td>94</td>\n",
       "      <td>28.1</td>\n",
       "      <td>0.167</td>\n",
       "      <td>21</td>\n",
       "    </tr>\n",
       "    <tr>\n",
       "      <th>4</th>\n",
       "      <td>0</td>\n",
       "      <td>137</td>\n",
       "      <td>40</td>\n",
       "      <td>35</td>\n",
       "      <td>168</td>\n",
       "      <td>43.1</td>\n",
       "      <td>2.288</td>\n",
       "      <td>33</td>\n",
       "    </tr>\n",
       "  </tbody>\n",
       "</table>\n",
       "</div>"
      ],
      "text/plain": [
       "   Pregnancies  Glucose  BloodPressure  SkinThickness  Insulin   BMI  \\\n",
       "0            6      148             72             35        0  33.6   \n",
       "1            1       85             66             29        0  26.6   \n",
       "2            8      183             64              0        0  23.3   \n",
       "3            1       89             66             23       94  28.1   \n",
       "4            0      137             40             35      168  43.1   \n",
       "\n",
       "   DiabetesPedigreeFunction  Age  \n",
       "0                     0.627   50  \n",
       "1                     0.351   31  \n",
       "2                     0.672   32  \n",
       "3                     0.167   21  \n",
       "4                     2.288   33  "
      ]
     },
     "execution_count": 9,
     "metadata": {},
     "output_type": "execute_result"
    }
   ],
   "source": [
    "X.head()"
   ]
  },
  {
   "cell_type": "code",
   "execution_count": 10,
   "id": "ac899b29",
   "metadata": {},
   "outputs": [
    {
     "data": {
      "text/html": [
       "<div>\n",
       "<style scoped>\n",
       "    .dataframe tbody tr th:only-of-type {\n",
       "        vertical-align: middle;\n",
       "    }\n",
       "\n",
       "    .dataframe tbody tr th {\n",
       "        vertical-align: top;\n",
       "    }\n",
       "\n",
       "    .dataframe thead th {\n",
       "        text-align: right;\n",
       "    }\n",
       "</style>\n",
       "<table border=\"1\" class=\"dataframe\">\n",
       "  <thead>\n",
       "    <tr style=\"text-align: right;\">\n",
       "      <th></th>\n",
       "      <th>Pregnancies</th>\n",
       "      <th>Glucose</th>\n",
       "      <th>BloodPressure</th>\n",
       "      <th>SkinThickness</th>\n",
       "      <th>Insulin</th>\n",
       "      <th>BMI</th>\n",
       "      <th>DiabetesPedigreeFunction</th>\n",
       "      <th>Age</th>\n",
       "    </tr>\n",
       "  </thead>\n",
       "  <tbody>\n",
       "    <tr>\n",
       "      <th>count</th>\n",
       "      <td>768.000000</td>\n",
       "      <td>768.000000</td>\n",
       "      <td>768.000000</td>\n",
       "      <td>768.000000</td>\n",
       "      <td>768.000000</td>\n",
       "      <td>768.000000</td>\n",
       "      <td>768.000000</td>\n",
       "      <td>768.000000</td>\n",
       "    </tr>\n",
       "    <tr>\n",
       "      <th>mean</th>\n",
       "      <td>3.845052</td>\n",
       "      <td>120.894531</td>\n",
       "      <td>69.105469</td>\n",
       "      <td>20.536458</td>\n",
       "      <td>79.799479</td>\n",
       "      <td>31.992578</td>\n",
       "      <td>0.471876</td>\n",
       "      <td>33.240885</td>\n",
       "    </tr>\n",
       "    <tr>\n",
       "      <th>std</th>\n",
       "      <td>3.369578</td>\n",
       "      <td>31.972618</td>\n",
       "      <td>19.355807</td>\n",
       "      <td>15.952218</td>\n",
       "      <td>115.244002</td>\n",
       "      <td>7.884160</td>\n",
       "      <td>0.331329</td>\n",
       "      <td>11.760232</td>\n",
       "    </tr>\n",
       "    <tr>\n",
       "      <th>min</th>\n",
       "      <td>0.000000</td>\n",
       "      <td>0.000000</td>\n",
       "      <td>0.000000</td>\n",
       "      <td>0.000000</td>\n",
       "      <td>0.000000</td>\n",
       "      <td>0.000000</td>\n",
       "      <td>0.078000</td>\n",
       "      <td>21.000000</td>\n",
       "    </tr>\n",
       "    <tr>\n",
       "      <th>25%</th>\n",
       "      <td>1.000000</td>\n",
       "      <td>99.000000</td>\n",
       "      <td>62.000000</td>\n",
       "      <td>0.000000</td>\n",
       "      <td>0.000000</td>\n",
       "      <td>27.300000</td>\n",
       "      <td>0.243750</td>\n",
       "      <td>24.000000</td>\n",
       "    </tr>\n",
       "    <tr>\n",
       "      <th>50%</th>\n",
       "      <td>3.000000</td>\n",
       "      <td>117.000000</td>\n",
       "      <td>72.000000</td>\n",
       "      <td>23.000000</td>\n",
       "      <td>30.500000</td>\n",
       "      <td>32.000000</td>\n",
       "      <td>0.372500</td>\n",
       "      <td>29.000000</td>\n",
       "    </tr>\n",
       "    <tr>\n",
       "      <th>75%</th>\n",
       "      <td>6.000000</td>\n",
       "      <td>140.250000</td>\n",
       "      <td>80.000000</td>\n",
       "      <td>32.000000</td>\n",
       "      <td>127.250000</td>\n",
       "      <td>36.600000</td>\n",
       "      <td>0.626250</td>\n",
       "      <td>41.000000</td>\n",
       "    </tr>\n",
       "    <tr>\n",
       "      <th>max</th>\n",
       "      <td>17.000000</td>\n",
       "      <td>199.000000</td>\n",
       "      <td>122.000000</td>\n",
       "      <td>99.000000</td>\n",
       "      <td>846.000000</td>\n",
       "      <td>67.100000</td>\n",
       "      <td>2.420000</td>\n",
       "      <td>81.000000</td>\n",
       "    </tr>\n",
       "  </tbody>\n",
       "</table>\n",
       "</div>"
      ],
      "text/plain": [
       "       Pregnancies     Glucose  BloodPressure  SkinThickness     Insulin  \\\n",
       "count   768.000000  768.000000     768.000000     768.000000  768.000000   \n",
       "mean      3.845052  120.894531      69.105469      20.536458   79.799479   \n",
       "std       3.369578   31.972618      19.355807      15.952218  115.244002   \n",
       "min       0.000000    0.000000       0.000000       0.000000    0.000000   \n",
       "25%       1.000000   99.000000      62.000000       0.000000    0.000000   \n",
       "50%       3.000000  117.000000      72.000000      23.000000   30.500000   \n",
       "75%       6.000000  140.250000      80.000000      32.000000  127.250000   \n",
       "max      17.000000  199.000000     122.000000      99.000000  846.000000   \n",
       "\n",
       "              BMI  DiabetesPedigreeFunction         Age  \n",
       "count  768.000000                768.000000  768.000000  \n",
       "mean    31.992578                  0.471876   33.240885  \n",
       "std      7.884160                  0.331329   11.760232  \n",
       "min      0.000000                  0.078000   21.000000  \n",
       "25%     27.300000                  0.243750   24.000000  \n",
       "50%     32.000000                  0.372500   29.000000  \n",
       "75%     36.600000                  0.626250   41.000000  \n",
       "max     67.100000                  2.420000   81.000000  "
      ]
     },
     "execution_count": 10,
     "metadata": {},
     "output_type": "execute_result"
    }
   ],
   "source": [
    "X.describe()"
   ]
  },
  {
   "cell_type": "markdown",
   "id": "6738799c",
   "metadata": {},
   "source": [
    "## Splitting the data"
   ]
  },
  {
   "cell_type": "code",
   "execution_count": 11,
   "id": "9a4a6bd2",
   "metadata": {},
   "outputs": [
    {
     "data": {
      "text/plain": [
       "((614, 8), (154, 8), (614,), (154,))"
      ]
     },
     "execution_count": 11,
     "metadata": {},
     "output_type": "execute_result"
    }
   ],
   "source": [
    "from sklearn.model_selection import train_test_split\n",
    "\n",
    "X_train,X_test,y_train,y_test=train_test_split(X,y,\n",
    "                                test_size=0.2,random_state=10)\n",
    "\n",
    "X_train.shape,X_test.shape,y_train.shape,y_test.shape"
   ]
  },
  {
   "cell_type": "markdown",
   "id": "8c02653e",
   "metadata": {},
   "source": [
    "## Building the model"
   ]
  },
  {
   "cell_type": "code",
   "execution_count": 18,
   "id": "ff6db533",
   "metadata": {},
   "outputs": [],
   "source": [
    "from sklearn.svm import SVC\n",
    "\n",
    "svc_lin=SVC(kernel='linear',probability=True)\n",
    "svc_lin=svc_lin.fit(X_train,y_train)\n",
    "\n"
   ]
  },
  {
   "cell_type": "code",
   "execution_count": 19,
   "id": "6c560841",
   "metadata": {},
   "outputs": [
    {
     "data": {
      "text/plain": [
       "array([1, 0, 0, 0, 0, 0, 0, 0, 0, 0, 0, 0, 1, 0, 0, 1, 1, 0, 0, 1, 0, 0,\n",
       "       0, 0, 0, 1, 0, 0, 1, 1, 0, 0, 0, 0, 0, 0, 0, 0, 1, 0, 0, 0, 0, 0,\n",
       "       0, 0, 0, 0, 0, 0, 0, 1, 0, 0, 0, 0, 0, 0, 0, 0, 0, 0, 0, 0, 0, 0,\n",
       "       1, 0, 0, 1, 1, 0, 1, 1, 0, 0, 1, 1, 0, 0, 0, 1, 0, 0, 0, 1, 0, 0,\n",
       "       1, 0, 0, 0, 0, 0, 0, 0, 1, 0, 0, 0, 1, 0, 1, 0, 0, 0, 1, 1, 0, 1,\n",
       "       0, 1, 0, 0, 0, 0, 0, 0, 0, 1, 0, 0, 0, 1, 0, 0, 0, 0, 0, 0, 1, 0,\n",
       "       1, 0, 0, 0, 0, 1, 1, 1, 0, 0, 0, 0, 1, 0, 0, 1, 1, 0, 0, 0, 1, 0])"
      ]
     },
     "execution_count": 19,
     "metadata": {},
     "output_type": "execute_result"
    }
   ],
   "source": [
    "y_pred=svc_lin.predict(X_test)\n",
    "y_pred"
   ]
  },
  {
   "cell_type": "code",
   "execution_count": 20,
   "id": "cf19bef0",
   "metadata": {},
   "outputs": [
    {
     "data": {
      "text/plain": [
       "array([[0.45103762, 0.54896238],\n",
       "       [0.79237665, 0.20762335],\n",
       "       [0.51800675, 0.48199325],\n",
       "       [0.88296208, 0.11703792],\n",
       "       [0.8894251 , 0.1105749 ],\n",
       "       [0.93894989, 0.06105011],\n",
       "       [0.90196823, 0.09803177],\n",
       "       [0.68774581, 0.31225419],\n",
       "       [0.92350473, 0.07649527],\n",
       "       [0.60883357, 0.39116643],\n",
       "       [0.9128631 , 0.0871369 ],\n",
       "       [0.74414778, 0.25585222],\n",
       "       [0.13685056, 0.86314944],\n",
       "       [0.68587003, 0.31412997],\n",
       "       [0.87942221, 0.12057779],\n",
       "       [0.30809207, 0.69190793],\n",
       "       [0.24354123, 0.75645877],\n",
       "       [0.94210293, 0.05789707],\n",
       "       [0.8920845 , 0.1079155 ],\n",
       "       [0.10027702, 0.89972298],\n",
       "       [0.66358932, 0.33641068],\n",
       "       [0.51724966, 0.48275034],\n",
       "       [0.68625253, 0.31374747],\n",
       "       [0.79195523, 0.20804477],\n",
       "       [0.83240043, 0.16759957],\n",
       "       [0.36291507, 0.63708493],\n",
       "       [0.72550327, 0.27449673],\n",
       "       [0.98650354, 0.01349646],\n",
       "       [0.35277776, 0.64722224],\n",
       "       [0.20011263, 0.79988737],\n",
       "       [0.76392471, 0.23607529],\n",
       "       [0.94771904, 0.05228096],\n",
       "       [0.90530317, 0.09469683],\n",
       "       [0.86379248, 0.13620752],\n",
       "       [0.60765682, 0.39234318],\n",
       "       [0.85114631, 0.14885369],\n",
       "       [0.71533244, 0.28466756],\n",
       "       [0.71200731, 0.28799269],\n",
       "       [0.31193287, 0.68806713],\n",
       "       [0.92393701, 0.07606299],\n",
       "       [0.580885  , 0.419115  ],\n",
       "       [0.70933527, 0.29066473],\n",
       "       [0.62705154, 0.37294846],\n",
       "       [0.6695142 , 0.3304858 ],\n",
       "       [0.5878472 , 0.4121528 ],\n",
       "       [0.90865526, 0.09134474],\n",
       "       [0.54119003, 0.45880997],\n",
       "       [0.87437425, 0.12562575],\n",
       "       [0.55556506, 0.44443494],\n",
       "       [0.72869331, 0.27130669],\n",
       "       [0.8885811 , 0.1114189 ],\n",
       "       [0.18571461, 0.81428539],\n",
       "       [0.75436933, 0.24563067],\n",
       "       [0.65542331, 0.34457669],\n",
       "       [0.62718562, 0.37281438],\n",
       "       [0.92329807, 0.07670193],\n",
       "       [0.92737444, 0.07262556],\n",
       "       [0.71258228, 0.28741772],\n",
       "       [0.81357545, 0.18642455],\n",
       "       [0.93671739, 0.06328261],\n",
       "       [0.87425644, 0.12574356],\n",
       "       [0.89148989, 0.10851011],\n",
       "       [0.93312672, 0.06687328],\n",
       "       [0.54471708, 0.45528292],\n",
       "       [0.87730799, 0.12269201],\n",
       "       [0.6026419 , 0.3973581 ],\n",
       "       [0.46138455, 0.53861545],\n",
       "       [0.69574203, 0.30425797],\n",
       "       [0.84276874, 0.15723126],\n",
       "       [0.49152267, 0.50847733],\n",
       "       [0.3310705 , 0.6689295 ],\n",
       "       [0.82304303, 0.17695697],\n",
       "       [0.51049199, 0.48950801],\n",
       "       [0.49047877, 0.50952123],\n",
       "       [0.7983195 , 0.2016805 ],\n",
       "       [0.86455361, 0.13544639],\n",
       "       [0.36793086, 0.63206914],\n",
       "       [0.28451837, 0.71548163],\n",
       "       [0.91943754, 0.08056246],\n",
       "       [0.72039853, 0.27960147],\n",
       "       [0.92147884, 0.07852116],\n",
       "       [0.23828183, 0.76171817],\n",
       "       [0.93953231, 0.06046769],\n",
       "       [0.85735975, 0.14264025],\n",
       "       [0.6848514 , 0.3151486 ],\n",
       "       [0.32101949, 0.67898051],\n",
       "       [0.51920513, 0.48079487],\n",
       "       [0.62667621, 0.37332379],\n",
       "       [0.09607549, 0.90392451],\n",
       "       [0.73774818, 0.26225182],\n",
       "       [0.79804965, 0.20195035],\n",
       "       [0.60902147, 0.39097853],\n",
       "       [0.93670299, 0.06329701],\n",
       "       [0.84467562, 0.15532438],\n",
       "       [0.90057057, 0.09942943],\n",
       "       [0.89733993, 0.10266007],\n",
       "       [0.24622256, 0.75377744],\n",
       "       [0.90211335, 0.09788665],\n",
       "       [0.84574415, 0.15425585],\n",
       "       [0.64146085, 0.35853915],\n",
       "       [0.48800522, 0.51199478],\n",
       "       [0.67820984, 0.32179016],\n",
       "       [0.5       , 0.5       ],\n",
       "       [0.66362798, 0.33637202],\n",
       "       [0.87715558, 0.12284442],\n",
       "       [0.53127727, 0.46872273],\n",
       "       [0.28088514, 0.71911486],\n",
       "       [0.27966   , 0.72034   ],\n",
       "       [0.82341766, 0.17658234],\n",
       "       [0.32859173, 0.67140827],\n",
       "       [0.87989068, 0.12010932],\n",
       "       [0.47854783, 0.52145217],\n",
       "       [0.67048922, 0.32951078],\n",
       "       [0.80874316, 0.19125684],\n",
       "       [0.72402875, 0.27597125],\n",
       "       [0.86227116, 0.13772884],\n",
       "       [0.95997094, 0.04002906],\n",
       "       [0.57252725, 0.42747275],\n",
       "       [0.83822573, 0.16177427],\n",
       "       [0.21104884, 0.78895116],\n",
       "       [0.86802691, 0.13197309],\n",
       "       [0.91414816, 0.08585184],\n",
       "       [0.82157696, 0.17842304],\n",
       "       [0.40620745, 0.59379255],\n",
       "       [0.69040882, 0.30959118],\n",
       "       [0.60426675, 0.39573325],\n",
       "       [0.83858325, 0.16141675],\n",
       "       [0.75872619, 0.24127381],\n",
       "       [0.63844525, 0.36155475],\n",
       "       [0.88188728, 0.11811272],\n",
       "       [0.26985184, 0.73014816],\n",
       "       [0.64405526, 0.35594474],\n",
       "       [0.35467176, 0.64532824],\n",
       "       [0.88522297, 0.11477703],\n",
       "       [0.8975756 , 0.1024244 ],\n",
       "       [0.73046768, 0.26953232],\n",
       "       [0.57664998, 0.42335002],\n",
       "       [0.43175333, 0.56824667],\n",
       "       [0.32763369, 0.67236631],\n",
       "       [0.25108095, 0.74891905],\n",
       "       [0.76088818, 0.23911182],\n",
       "       [0.92068746, 0.07931254],\n",
       "       [0.70462344, 0.29537656],\n",
       "       [0.80425334, 0.19574666],\n",
       "       [0.24977653, 0.75022347],\n",
       "       [0.61779646, 0.38220354],\n",
       "       [0.80565379, 0.19434621],\n",
       "       [0.28053677, 0.71946323],\n",
       "       [0.38346155, 0.61653845],\n",
       "       [0.70835165, 0.29164835],\n",
       "       [0.86000352, 0.13999648],\n",
       "       [0.86988283, 0.13011717],\n",
       "       [0.50622569, 0.49377431],\n",
       "       [0.90648508, 0.09351492]])"
      ]
     },
     "execution_count": 20,
     "metadata": {},
     "output_type": "execute_result"
    }
   ],
   "source": [
    "y_pred_prob=svc_lin.predict_proba(X_test)\n",
    "y_pred_prob"
   ]
  },
  {
   "cell_type": "code",
   "execution_count": 14,
   "id": "a37ea729",
   "metadata": {},
   "outputs": [
    {
     "data": {
      "text/plain": [
       "568    0\n",
       "620    0\n",
       "456    0\n",
       "197    1\n",
       "714    0\n",
       "      ..\n",
       "264    1\n",
       "706    1\n",
       "194    0\n",
       "179    1\n",
       "514    0\n",
       "Name: Outcome, Length: 154, dtype: int64"
      ]
     },
     "execution_count": 14,
     "metadata": {},
     "output_type": "execute_result"
    }
   ],
   "source": [
    "y_test"
   ]
  },
  {
   "cell_type": "markdown",
   "id": "3b8347f3",
   "metadata": {},
   "source": [
    "## Performance of the model"
   ]
  },
  {
   "cell_type": "code",
   "execution_count": 16,
   "id": "8d841b6a",
   "metadata": {},
   "outputs": [],
   "source": [
    "from sklearn.metrics import confusion_matrix,classification_report,roc_curve,roc_auc_score\n",
    "    \n",
    "    "
   ]
  },
  {
   "cell_type": "code",
   "execution_count": 23,
   "id": "9412969c",
   "metadata": {},
   "outputs": [
    {
     "name": "stdout",
     "output_type": "stream",
     "text": [
      " Confusion Matrix:\n",
      " [[87  8]\n",
      " [29 30]]\n",
      " The report:\n",
      "               precision    recall  f1-score   support\n",
      "\n",
      "           0       0.75      0.92      0.82        95\n",
      "           1       0.79      0.51      0.62        59\n",
      "\n",
      "    accuracy                           0.76       154\n",
      "   macro avg       0.77      0.71      0.72       154\n",
      "weighted avg       0.77      0.76      0.75       154\n",
      "\n",
      " Score: 0.7121320249776985\n"
     ]
    },
    {
     "data": {
      "image/png": "[encoded data removed]",
      "text/plain": [
       "<Figure size 432x288 with 1 Axes>"
      ]
     },
     "metadata": {
      "needs_background": "light"
     },
     "output_type": "display_data"
    }
   ],
   "source": [
    "cm=confusion_matrix(y_test,y_pred)\n",
    "report=classification_report(y_test,y_pred)\n",
    "score=roc_auc_score(y_test,y_pred)\n",
    "print(' Confusion Matrix:\\n',cm)\n",
    "print(' The report:\\n',report)\n",
    "print(' Score:',score)\n",
    "fpr,tpr,_=roc_curve(y_test,y_pred_prob[:,1])\n",
    "plt.plot(fpr,tpr);"
   ]
  },
  {
   "cell_type": "markdown",
   "id": "9ca9b3bd",
   "metadata": {},
   "source": [
    "## Hyper parameter tuning"
   ]
  },
  {
   "cell_type": "markdown",
   "id": "842326d8",
   "metadata": {},
   "source": [
    "### Tuning the kernel"
   ]
  },
  {
   "cell_type": "code",
   "execution_count": 34,
   "id": "6ccd524f",
   "metadata": {},
   "outputs": [],
   "source": [
    "def SVC_kernel_tune(kernel):\n",
    "    model=SVC(kernel=kernel,probability=True)\n",
    "    model=model.fit(X_train,y_train)\n",
    "    y_pred=model.predict(X_test)\n",
    "    y_pred_prob=model.predict_proba(X_test)\n",
    "    cm=confusion_matrix(y_test,y_pred)\n",
    "    score=roc_auc_score(y_test,y_pred)\n",
    "    report=classification_report(y_test,y_pred)\n",
    "    # fpr,tpr,_=roc_curve(y_test,y_pred_prob[:,1])\n",
    "    print(' SVC Model with kernel:', kernel)\n",
    "    print( '      *************.  ')\n",
    "    print(' The confusion Matrix')\n",
    "    sns.heatmap(cm,annot=True)\n",
    "    print(' The classification Report:\\n', report)\n",
    "    print(' The ROC-AUC-Score:',score)\n",
    "    "
   ]
  },
  {
   "cell_type": "code",
   "execution_count": 35,
   "id": "1a0b33c6",
   "metadata": {},
   "outputs": [
    {
     "name": "stdout",
     "output_type": "stream",
     "text": [
      " SVC Model with kernel: linear\n",
      "      *************.  \n",
      " The confusion Matrix\n",
      " The classification Report:\n",
      "               precision    recall  f1-score   support\n",
      "\n",
      "           0       0.75      0.92      0.82        95\n",
      "           1       0.79      0.51      0.62        59\n",
      "\n",
      "    accuracy                           0.76       154\n",
      "   macro avg       0.77      0.71      0.72       154\n",
      "weighted avg       0.77      0.76      0.75       154\n",
      "\n",
      " The ROC-AUC-Score: 0.7121320249776985\n"
     ]
    },
    {
     "data": {
      "image/png": "[encoded data removed]",
      "text/plain": [
       "<Figure size 432x288 with 2 Axes>"
      ]
     },
     "metadata": {
      "needs_background": "light"
     },
     "output_type": "display_data"
    }
   ],
   "source": [
    "# Calling the function\n",
    "\n",
    "SVC_kernel_tune('linear')"
   ]
  },
  {
   "cell_type": "code",
   "execution_count": 36,
   "id": "239b706c",
   "metadata": {},
   "outputs": [
    {
     "name": "stdout",
     "output_type": "stream",
     "text": [
      " SVC Model with kernel: poly\n",
      "      *************.  \n",
      " The confusion Matrix\n",
      " The classification Report:\n",
      "               precision    recall  f1-score   support\n",
      "\n",
      "           0       0.70      0.93      0.80        95\n",
      "           1       0.75      0.36      0.48        59\n",
      "\n",
      "    accuracy                           0.71       154\n",
      "   macro avg       0.72      0.64      0.64       154\n",
      "weighted avg       0.72      0.71      0.68       154\n",
      "\n",
      " The ROC-AUC-Score: 0.6411239964317573\n"
     ]
    },
    {
     "data": {
      "image/png": "[encoded data removed]",
      "text/plain": [
       "<Figure size 432x288 with 2 Axes>"
      ]
     },
     "metadata": {
      "needs_background": "light"
     },
     "output_type": "display_data"
    }
   ],
   "source": [
    "SVC_kernel_tune('poly')"
   ]
  },
  {
   "cell_type": "code",
   "execution_count": 37,
   "id": "b968c8a5",
   "metadata": {},
   "outputs": [
    {
     "name": "stdout",
     "output_type": "stream",
     "text": [
      " SVC Model with kernel: rbf\n",
      "      *************.  \n",
      " The confusion Matrix\n",
      " The classification Report:\n",
      "               precision    recall  f1-score   support\n",
      "\n",
      "           0       0.70      0.92      0.79        95\n",
      "           1       0.73      0.37      0.49        59\n",
      "\n",
      "    accuracy                           0.71       154\n",
      "   macro avg       0.72      0.64      0.64       154\n",
      "weighted avg       0.71      0.71      0.68       154\n",
      "\n",
      " The ROC-AUC-Score: 0.6443354148082068\n"
     ]
    },
    {
     "data": {
      "image/png": "[encoded data removed]",
      "text/plain": [
       "<Figure size 432x288 with 2 Axes>"
      ]
     },
     "metadata": {
      "needs_background": "light"
     },
     "output_type": "display_data"
    }
   ],
   "source": [
    "SVC_kernel_tune('rbf')"
   ]
  },
  {
   "cell_type": "code",
   "execution_count": 38,
   "id": "eadf80a5",
   "metadata": {},
   "outputs": [
    {
     "name": "stdout",
     "output_type": "stream",
     "text": [
      " SVC Model with kernel: sigmoid\n",
      "      *************.  \n",
      " The confusion Matrix\n",
      " The classification Report:\n",
      "               precision    recall  f1-score   support\n",
      "\n",
      "           0       0.58      0.76      0.66        95\n",
      "           1       0.23      0.12      0.16        59\n",
      "\n",
      "    accuracy                           0.51       154\n",
      "   macro avg       0.41      0.44      0.41       154\n",
      "weighted avg       0.45      0.51      0.47       154\n",
      "\n",
      " The ROC-AUC-Score: 0.4382694023193577\n"
     ]
    },
    {
     "data": {
      "image/png": "[encoded data removed]",
      "text/plain": [
       "<Figure size 432x288 with 2 Axes>"
      ]
     },
     "metadata": {
      "needs_background": "light"
     },
     "output_type": "display_data"
    }
   ],
   "source": [
    "SVC_kernel_tune('sigmoid')"
   ]
  },
  {
   "cell_type": "markdown",
   "id": "9afd8941",
   "metadata": {},
   "source": [
    "* Note:\n",
    "    \n",
    "    The best value of kernel: 'linear'"
   ]
  },
  {
   "cell_type": "markdown",
   "id": "14dd46da",
   "metadata": {},
   "source": [
    "### Tuning the regularisation parameter C"
   ]
  },
  {
   "cell_type": "code",
   "execution_count": 40,
   "id": "208ff99c",
   "metadata": {},
   "outputs": [],
   "source": [
    "# Creating a fn with a list of C as the parameter\n",
    "\n",
    "def SVC_C_tuner(C_list):\n",
    "    for c in C_list:\n",
    "        model=SVC(kernel='linear',C=c)\n",
    "        model=model.fit(X_train,y_train)\n",
    "        y_pred=model.predict(X_test)\n",
    "        score=roc_auc_score(y_test,y_pred)\n",
    "        print(' The value of C:',c, 'The score:',score)"
   ]
  },
  {
   "cell_type": "code",
   "execution_count": 41,
   "id": "a5a88a42",
   "metadata": {},
   "outputs": [],
   "source": [
    "# The list of C values:\n",
    "\n",
    "C_list=[0.1,1,2,3,4,5,10,15,20,25,30]"
   ]
  },
  {
   "cell_type": "code",
   "execution_count": 42,
   "id": "16f6dcb8",
   "metadata": {},
   "outputs": [
    {
     "name": "stdout",
     "output_type": "stream",
     "text": [
      " The value of C: 0.1 The score: 0.703657448706512\n",
      " The value of C: 1 The score: 0.7121320249776985\n",
      " The value of C: 2 The score: 0.7068688670829617\n",
      " The value of C: 3 The score: 0.7068688670829617\n",
      " The value of C: 4 The score: 0.7068688670829617\n",
      " The value of C: 5 The score: 0.7068688670829617\n",
      " The value of C: 10 The score: 0.7016057091882248\n",
      " The value of C: 15 The score: 0.7016057091882248\n",
      " The value of C: 20 The score: 0.7290811775200713\n",
      " The value of C: 25 The score: 0.7068688670829617\n",
      " The value of C: 30 The score: 0.7068688670829617\n"
     ]
    }
   ],
   "source": [
    "SVC_C_tuner(C_list)"
   ]
  },
  {
   "cell_type": "code",
   "execution_count": 43,
   "id": "d0ddc988",
   "metadata": {},
   "outputs": [
    {
     "name": "stdout",
     "output_type": "stream",
     "text": [
      " The value of C: 18 The score: 0.715343443354148\n",
      " The value of C: 19 The score: 0.7068688670829617\n",
      " The value of C: 21 The score: 0.7068688670829617\n",
      " The value of C: 22 The score: 0.7068688670829617\n"
     ]
    }
   ],
   "source": [
    "C_list=[18,19,21,22]\n",
    "SVC_C_tuner(C_list)"
   ]
  },
  {
   "cell_type": "markdown",
   "id": "749940be",
   "metadata": {},
   "source": [
    "#### The best and the final model: kernel='linear', C=20"
   ]
  },
  {
   "cell_type": "code",
   "execution_count": null,
   "id": "38a7caf2",
   "metadata": {},
   "outputs": [],
   "source": [
    "# The final model\n",
    "\n",
    "svc_final=SVC(kernel='linear',C=20, probability= True)\n",
    "svc_final=svc_final.fit(X_train,y_train)\n",
    "y_pred=svc_final.predict(X_test)\n",
    "y_pred_prob=svc_final.predict_proba(X_test)\n",
    "cm=confusion_matrix(y_test,y_pred)\n",
    "score=roc_auc_score(y_test,y_pred)\n",
    "report=classification_report(y_test,y_pred)\n",
    "fpr,tpr,_=roc_curve(y_test,y_pred_prob[:,1])\n",
    "print(' SVC Model with kernel: linear')\n",
    "print( '      *************.  ')\n",
    "print(' The confusion Matrix')\n",
    "sns.heatmap(cm,annot=True)\n",
    "print(' The classification Report:\\n', report)\n",
    "print(' The ROC-AUC-Score:',score)"
   ]
  },
  {
   "cell_type": "code",
   "execution_count": null,
   "id": "e4dd6196",
   "metadata": {},
   "outputs": [],
   "source": []
  }
 ],
 "metadata": {
  "kernelspec": {
   "display_name": "Python 3 (ipykernel)",
   "language": "python",
   "name": "python3"
  },
  "language_info": {
   "codemirror_mode": {
    "name": "ipython",
    "version": 3
   },
   "file_extension": ".py",
   "mimetype": "text/x-python",
   "name": "python",
   "nbconvert_exporter": "python",
   "pygments_lexer": "ipython3",
   "version": "3.9.12"
  }
 },
 "nbformat": 4,
 "nbformat_minor": 5
}
